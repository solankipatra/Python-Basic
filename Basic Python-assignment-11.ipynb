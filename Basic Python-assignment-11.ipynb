{
 "cells": [
  {
   "cell_type": "markdown",
   "id": "12a62630",
   "metadata": {},
   "source": [
    "1. Create an assert statement that throws an AssertionError if the variable spam is a negative integer."
   ]
  },
  {
   "cell_type": "code",
   "execution_count": null,
   "id": "363ad877",
   "metadata": {},
   "outputs": [],
   "source": [
    "spam=input()\n",
    "assert spam > 0, \"Negative Integer\""
   ]
  },
  {
   "cell_type": "markdown",
   "id": "a78e8832",
   "metadata": {},
   "source": [
    "2. Write an assert statement that triggers an AssertionError if the variables eggs and bacon contain strings that are the same as each other, even if their cases are different (that is, 'hello' and 'hello' are considered the same, and 'goodbye' and 'GOODbye' are also considered the same)."
   ]
  },
  {
   "cell_type": "code",
   "execution_count": null,
   "id": "a1b9fd63",
   "metadata": {},
   "outputs": [],
   "source": [
    "eggs=input()\n",
    "bacon=input()\n",
    "assert eggs.lower() != bacon.lower(), 'eggs/bacon should not be the same!'"
   ]
  },
  {
   "cell_type": "markdown",
   "id": "22706063",
   "metadata": {},
   "source": [
    "3. Create an assert statement that throws an AssertionError every time.\n",
    "Answer- assert True, 'Always triggers an AssertionError.'"
   ]
  },
  {
   "cell_type": "markdown",
   "id": "c462daae",
   "metadata": {},
   "source": [
    "4. What are the two lines that must be present in your software in order to call logging.debug()?\n",
    "import logging\n",
    "logging.basicConfig"
   ]
  },
  {
   "cell_type": "markdown",
   "id": "e62103e1",
   "metadata": {},
   "source": [
    "5. What are the two lines that your program must have in order to have logging.debug() send a logging message to a file named programLog.txt?\n",
    "import logging\n",
    "logging.basicConfig(\n",
    "    filename='programLog.txt',\n",
    "    level=logging.DEBUG,\n",
    "    format='%(asctime)s - %(levelname)s - %(message)s'\n",
    ")\n",
    "\n",
    "6. What are the five levels of logging?\n",
    "\n",
    "logging.debug() - variable's state and small details\n",
    "logging.info() - general events, confirm a program is working\n",
    "logging.warning() - potiental problem to work on in the future\n",
    "logging.error() - record an error that caused program to fail to do something\n",
    "logging.critical() - fatal error that has caused\n",
    "\n",
    "7. What line of code would you add to your software to disable all logging messages?\n",
    "logging.disable(logging.DEBUG)\n",
    "\n",
    "8. Why is using logging messages better than using print() to display the same message?\n",
    "Because with print, when your program is ready for production, you still have to \"remove\" or comment it out. Verses logging message, you can toggle the setting on/off or write to a file (send to a server). It is more flexible especially with logging level 1-5.\n",
    "\n",
    "9. What are the differences between the Step Over, Step In, and Step Out buttons in the debugger?\n",
    "Step - one line execution at a time\n",
    "Over - excecute the next line of code, but if it is a program, it will complete the entire function call.\n",
    "out  - execute the lines of code unti it returns from the current function.(out is useful when you stepped into a function call).\n",
    "\n",
    "\n",
    "10. After you click Continue, when will the debugger stop ?\n",
    "Go runs until the program terminate or reaches a breakpoint set.\n",
    "\n",
    "11. What is the concept of a breakpoint?\n",
    "When you have Debugger enabled and you can right click on any lines to create a breakpoint. During Go - it will stop there and await your next command."
   ]
  }
 ],
 "metadata": {
  "kernelspec": {
   "display_name": "Python 3 (ipykernel)",
   "language": "python",
   "name": "python3"
  },
  "language_info": {
   "codemirror_mode": {
    "name": "ipython",
    "version": 3
   },
   "file_extension": ".py",
   "mimetype": "text/x-python",
   "name": "python",
   "nbconvert_exporter": "python",
   "pygments_lexer": "ipython3",
   "version": "3.9.7"
  }
 },
 "nbformat": 4,
 "nbformat_minor": 5
}
