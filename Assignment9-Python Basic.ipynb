{
 "cells": [
  {
   "cell_type": "markdown",
   "id": "442ffa34",
   "metadata": {},
   "source": [
    "1. To what does a relative path refer?\n",
    "Answer-\n",
    "os.path.relpath() method in Python is used to get a relative filepath to the given path either from the current working directory or from the given directory.\n"
   ]
  },
  {
   "cell_type": "code",
   "execution_count": 1,
   "id": "2a781d5c",
   "metadata": {},
   "outputs": [],
   "source": [
    "import os"
   ]
  },
  {
   "cell_type": "code",
   "execution_count": 3,
   "id": "d81b22ec",
   "metadata": {},
   "outputs": [
    {
     "name": "stdout",
     "output_type": "stream",
     "text": [
      "..\\ User \\ Desktop \\ file.txt\n"
     ]
    }
   ],
   "source": [
    "path = \"/home / User / Desktop / file.txt\"\n",
    "start = \"/home / User\"\n",
    "print(os.path.relpath(path,start))"
   ]
  },
  {
   "cell_type": "markdown",
   "id": "80aaa32b",
   "metadata": {},
   "source": [
    "2. What does an absolute path start with your operating system?\n",
    "Answer-\n",
    "An absolute path refers to the complete details needed to locate a file or folder, starting from the root element and ending with the other subdirectories. Absolute paths are used in websites and operating systems for locating files and folders. An absolute path is also known as an absolute pathname or full path.\n",
    "\n",
    "3. What do the functions os.getcwd() and os.chdir() do?\n",
    "Answer-\n",
    "os.getcwd()-- give path of current working directory.\n",
    "os.chdir() method in Python used to change the current working directory to specified path. It takes only a single argument as new directory path."
   ]
  },
  {
   "cell_type": "code",
   "execution_count": 4,
   "id": "012649e2",
   "metadata": {},
   "outputs": [
    {
     "data": {
      "text/plain": [
       "'C:\\\\Users\\\\Solanki'"
      ]
     },
     "execution_count": 4,
     "metadata": {},
     "output_type": "execute_result"
    }
   ],
   "source": [
    "os.getcwd()"
   ]
  },
  {
   "cell_type": "code",
   "execution_count": 15,
   "id": "3d0faa34",
   "metadata": {},
   "outputs": [
    {
     "name": "stdout",
     "output_type": "stream",
     "text": [
      "directory changed\n"
     ]
    }
   ],
   "source": [
    "os.chdir(r\"C:\\Users\\Solanki\\Desktop\\python\")\n",
    "print(\"directory changed\")"
   ]
  },
  {
   "cell_type": "markdown",
   "id": "7c24be70",
   "metadata": {},
   "source": [
    "4. What are the . and .. folders?\n",
    "Answer-\n",
    "(.) is shorthand for “this directory”\n",
    "-(..) is shorthand for “the parent directory’\n",
    "\n",
    "5. In C:\\bacon\\eggs\\spam.txt, which part is the dir name, and which part is the base name?\n",
    "Answer-\n",
    "dir name = C:\\bacon\\eggs\n",
    "base (or file) name = spam.txt\n",
    "\n",
    "6. What are the three “mode” arguments that can be passed to the open() function?\n",
    "Answer-\n",
    "read/readlines, write, and append\n",
    "\n",
    "7. What happens if an existing file is opened in write mode?\n",
    "Answer-\n",
    "It overwrites the existing file and starts from scratch\n",
    "\n",
    "8. How do you tell the difference between read() and readlines()?\n",
    "Answer-\n",
    "The read() method passes the entire file as a string\n",
    "The readlines() method provides a list of string values - one string for each line of text\n",
    "\n",
    "9. What data structure does a shelf value resemble?\n",
    "Resembles a dictionary"
   ]
  }
 ],
 "metadata": {
  "kernelspec": {
   "display_name": "Python 3 (ipykernel)",
   "language": "python",
   "name": "python3"
  },
  "language_info": {
   "codemirror_mode": {
    "name": "ipython",
    "version": 3
   },
   "file_extension": ".py",
   "mimetype": "text/x-python",
   "name": "python",
   "nbconvert_exporter": "python",
   "pygments_lexer": "ipython3",
   "version": "3.9.7"
  }
 },
 "nbformat": 4,
 "nbformat_minor": 5
}
