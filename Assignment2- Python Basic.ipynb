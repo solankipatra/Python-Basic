{
 "cells": [
  {
   "cell_type": "markdown",
   "id": "218be33d",
   "metadata": {},
   "source": [
    "1.What are the two values of the Boolean data type? How do you write them?\n",
    "Answer:\n",
    "TRUE(1) and FALSE(0)\n",
    "2. What are the three different types of Boolean operators?\n",
    "Answer:\n",
    "AND, OR and NOT\n",
    "3. Make a list of each Boolean operator's truth tables (i.e. every possible combination of Boolean values for the operator and what it evaluate ).\n",
    "Answer:\n",
    "NOT OPERATOR:\n",
    "\n",
    "INPUT\t OUTPUT\n",
    "TRUE(1)\t FALSE(0)\n",
    "FALSE(0) TRUE(1)\n",
    "\n",
    "OR OPERATOR:\n",
    "\n",
    "INPUT\t  INPUT\t     OUTPUT\n",
    "TRUE(1)\t  TRUE(1)\tTRUE(1)\n",
    "FALSE(0)  TRUE(1)\tTRUE(1)\n",
    "TRUE(1)\t  FALSE(0)\tTRUE(1)\n",
    "FALSE(0)  FALSE(0)\tFALSE(0)\n",
    "\n",
    "AND OPERATOR:\n",
    "\n",
    "INPUT\t  INPUT\t    OUTPUT\n",
    "TRUE(1)\t  TRUE(1)\tTRUE(1)\n",
    "FALSE(0)  TRUE(1)\tFALSE(0)\n",
    "TRUE(1)\t  FALSE(0)\tFALSE(0)\n",
    "FALSE(0)  FALSE(0)\tFALSE(0)\n",
    "\n",
    "\n",
    "\n",
    "\n",
    "\n",
    "4. What are the values of the following expressions?\n",
    "(5 > 4) and (3 == 5)\n",
    "not (5 > 4)\n",
    "(5 > 4) or (3 == 5)\n",
    "not ((5 > 4) or (3 == 5))\n",
    "(True and True) and (True == False)\n",
    "(not False) or (not True)\n",
    "\n",
    "Answer:\n",
    "\n",
    "(5 > 4) and (3 == 5)---> FALSE\n",
    "not (5 > 4)---> FALSE\n",
    "(5 > 4) or (3 == 5)---> TRUE\n",
    "not ((5 > 4) or (3 == 5))---> FALSE\n",
    "(True and True) and (True == False)---> FALSE\n",
    "(not False) or (not True)---> TRUE\n",
    "\n",
    "5. What are the six comparison operators?\n",
    "Answer:\n",
    "\n",
    "Less than (<) \n",
    "Greater than (>) \n",
    "Less than or equal to (<=) \n",
    "Greater than or equal to (>=) \n",
    "Equal to (==) \n",
    "Not equal to (!=)\n",
    "\n",
    "\n",
    "6. How do you tell the difference between the equal to and assignment operators?Describe a condition and when you would use one.\n",
    "Answer:\n",
    "\n",
    "The “=” is an assignment operator is used to assign the value on the right to the variable on the left. The '==' operator checks whether the two given operands are equal or not. If so, it returns true. Otherwise it returns false.\n",
    "\n",
    "Example:\n",
    "a=2 that means i am assigning value 2 to the variable 2.\n",
    "where as\n",
    "\n",
    "a=20 and b=20\n",
    "and we do a==b then it will check whether the values of operand that is (a,b) are same or not\n",
    "\n",
    "7. Identify the three blocks in this code:\n",
    "spam = 0\n",
    "if spam == 10:\n",
    "print('eggs')\n",
    "if spam > 5:\n",
    "print('bacon')\n",
    "else:\n",
    "print('ham')\n",
    "print('spam')\n",
    "print('spam')\n",
    "\n",
    "Answer:\n",
    "spam = 0\n",
    "/*if spam == 10:\n",
    "    print('eggs')*/----Block 1\n",
    "/*if spam > 5:\n",
    "    print('bacon')*/---Block2\n",
    "/*else:\n",
    "    print('ham')\n",
    "    print('spam')\n",
    "    print('spam')*/---Block3"
   ]
  },
  {
   "cell_type": "markdown",
   "id": "ecd3dc14",
   "metadata": {},
   "source": [
    "8. Write code that prints Hello if 1 is stored in spam, prints Howdy if 2 is stored in spam, and prints Greetings! if anything else is stored in spam."
   ]
  },
  {
   "cell_type": "code",
   "execution_count": null,
   "id": "87b37289",
   "metadata": {},
   "outputs": [],
   "source": [
    "spam= int(input())\n",
    "if spam == 1:\n",
    "    print(\"Hello\")\n",
    "elif spam == 2:\n",
    "    print(\"Howdy\")\n",
    "else:\n",
    "    print(\"Greetings!\")"
   ]
  },
  {
   "cell_type": "markdown",
   "id": "c044991e",
   "metadata": {},
   "source": [
    "9.If your programme is stuck in an endless loop, what keys you’ll press?\n",
    "Answer:\n",
    "CTRL+C\n",
    "\n",
    "10. How can you tell the difference between break and continue?\n",
    "Answer:\n",
    "The Python break statement stops the loop in which the statement is placed. A Python continue statement skips a single iteration in a loop\n",
    "\n",
    "11. In a for loop, what is the difference between range(10), range(0, 10), and range(0, 10, 1)?\n",
    "Answer:\n",
    "Range(10) will start from 0 and run till 9 i.e excluding 10\n",
    "Range(0,10) will start from 0 and run till 9 i.e. excluding  10\n",
    "range(0, 10, 1) will start from 0 and run till 9 i.e. excluding  10 and incrementation will be of 1 step at a time\n"
   ]
  },
  {
   "cell_type": "code",
   "execution_count": 2,
   "id": "da0fe42c",
   "metadata": {},
   "outputs": [
    {
     "name": "stdout",
     "output_type": "stream",
     "text": [
      "0\n",
      "1\n",
      "2\n",
      "3\n",
      "4\n",
      "5\n",
      "6\n",
      "7\n",
      "8\n",
      "9\n"
     ]
    }
   ],
   "source": [
    "for i in range(10):\n",
    "    print(i)"
   ]
  },
  {
   "cell_type": "code",
   "execution_count": 3,
   "id": "1f3d8c9c",
   "metadata": {},
   "outputs": [
    {
     "name": "stdout",
     "output_type": "stream",
     "text": [
      "0\n",
      "1\n",
      "2\n",
      "3\n",
      "4\n",
      "5\n",
      "6\n",
      "7\n",
      "8\n",
      "9\n"
     ]
    }
   ],
   "source": [
    "for i in range(0,10):\n",
    "    print(i)"
   ]
  },
  {
   "cell_type": "code",
   "execution_count": 4,
   "id": "754886c0",
   "metadata": {},
   "outputs": [
    {
     "name": "stdout",
     "output_type": "stream",
     "text": [
      "0\n",
      "1\n",
      "2\n",
      "3\n",
      "4\n",
      "5\n",
      "6\n",
      "7\n",
      "8\n",
      "9\n"
     ]
    }
   ],
   "source": [
    "for i in range(0,10,1):\n",
    "    print(i)"
   ]
  },
  {
   "cell_type": "markdown",
   "id": "5072ea26",
   "metadata": {},
   "source": [
    "12. Write a short program that prints the numbers 1 to 10 using a for loop. Then write an equivalent program that prints the numbers 1 to 10 using a while loop."
   ]
  },
  {
   "cell_type": "code",
   "execution_count": 7,
   "id": "b237160e",
   "metadata": {},
   "outputs": [
    {
     "name": "stdout",
     "output_type": "stream",
     "text": [
      "1\n",
      "2\n",
      "3\n",
      "4\n",
      "5\n",
      "6\n",
      "7\n",
      "8\n",
      "9\n",
      "10\n"
     ]
    }
   ],
   "source": [
    "for i in range(1,11):\n",
    "    print(i)"
   ]
  },
  {
   "cell_type": "code",
   "execution_count": 1,
   "id": "5caa3675",
   "metadata": {},
   "outputs": [
    {
     "name": "stdout",
     "output_type": "stream",
     "text": [
      "1\n",
      "2\n",
      "3\n",
      "4\n",
      "5\n",
      "6\n",
      "7\n",
      "8\n",
      "9\n",
      "10\n"
     ]
    }
   ],
   "source": [
    "j = 1\n",
    "while j < 11:\n",
    "  print(j)\n",
    "  j += 1"
   ]
  },
  {
   "cell_type": "markdown",
   "id": "a8ab5f6e",
   "metadata": {},
   "source": [
    "13. If you had a function named bacon() inside a module named spam, how would you call it after importing spam?\n",
    "ANswer:\n",
    "This function can be called with spam.bacon()"
   ]
  }
 ],
 "metadata": {
  "kernelspec": {
   "display_name": "Python 3 (ipykernel)",
   "language": "python",
   "name": "python3"
  },
  "language_info": {
   "codemirror_mode": {
    "name": "ipython",
    "version": 3
   },
   "file_extension": ".py",
   "mimetype": "text/x-python",
   "name": "python",
   "nbconvert_exporter": "python",
   "pygments_lexer": "ipython3",
   "version": "3.9.7"
  }
 },
 "nbformat": 4,
 "nbformat_minor": 5
}
