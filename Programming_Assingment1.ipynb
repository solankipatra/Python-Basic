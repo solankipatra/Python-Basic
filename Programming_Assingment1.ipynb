{
 "cells": [
  {
   "cell_type": "markdown",
   "id": "5fbf5e6b",
   "metadata": {},
   "source": [
    "1.\tWrite a Python program to print \"Hello Python\"?"
   ]
  },
  {
   "cell_type": "code",
   "execution_count": 4,
   "id": "1d5f1313",
   "metadata": {},
   "outputs": [
    {
     "name": "stdout",
     "output_type": "stream",
     "text": [
      "Hello Python\n"
     ]
    }
   ],
   "source": [
    "print(\"Hello Python\")"
   ]
  },
  {
   "cell_type": "markdown",
   "id": "9c21adcd",
   "metadata": {},
   "source": [
    "2.\tWrite a Python program to do arithmetical operations addition and division.?"
   ]
  },
  {
   "cell_type": "code",
   "execution_count": 13,
   "id": "1746dd73",
   "metadata": {},
   "outputs": [],
   "source": [
    "class operation:\n",
    "    def __init__(self,a,b):\n",
    "        self.a=a\n",
    "        self.b=b\n",
    "        \n",
    "    def addition(self):\n",
    "        print(self.a+self.b)\n",
    "        \n",
    "    def division(self):\n",
    "        print(self.a/self.b)\n",
    "    "
   ]
  },
  {
   "cell_type": "code",
   "execution_count": 14,
   "id": "53a17d92",
   "metadata": {},
   "outputs": [],
   "source": [
    "math=operation(6,2)"
   ]
  },
  {
   "cell_type": "code",
   "execution_count": 15,
   "id": "a6152e6f",
   "metadata": {},
   "outputs": [
    {
     "name": "stdout",
     "output_type": "stream",
     "text": [
      "8\n"
     ]
    }
   ],
   "source": [
    "math.addition()"
   ]
  },
  {
   "cell_type": "code",
   "execution_count": 16,
   "id": "78f70f33",
   "metadata": {},
   "outputs": [
    {
     "name": "stdout",
     "output_type": "stream",
     "text": [
      "3.0\n"
     ]
    }
   ],
   "source": [
    "math.division()"
   ]
  },
  {
   "cell_type": "markdown",
   "id": "12b259ca",
   "metadata": {},
   "source": [
    "3.\tWrite a Python program to find the area of a triangle?"
   ]
  },
  {
   "cell_type": "code",
   "execution_count": 1,
   "id": "4493443e",
   "metadata": {},
   "outputs": [],
   "source": [
    "def area_of_triangle(height,width):\n",
    "    area= 0.5*height*width\n",
    "    print(area)"
   ]
  },
  {
   "cell_type": "code",
   "execution_count": 2,
   "id": "02fda77a",
   "metadata": {},
   "outputs": [
    {
     "name": "stdout",
     "output_type": "stream",
     "text": [
      "10.0\n"
     ]
    }
   ],
   "source": [
    "area_of_triangle(4,5)"
   ]
  },
  {
   "cell_type": "markdown",
   "id": "fae4d291",
   "metadata": {},
   "source": [
    "4.\tWrite a Python program to swap two variables?"
   ]
  },
  {
   "cell_type": "code",
   "execution_count": 4,
   "id": "916ba7af",
   "metadata": {},
   "outputs": [],
   "source": [
    "def swap_variables(a,b):\n",
    "    a=a+b\n",
    "    b=a-b\n",
    "    a=a-b\n",
    "    print(\"New Value of a\",a)\n",
    "    print(\"New Value of b\",b)"
   ]
  },
  {
   "cell_type": "code",
   "execution_count": 5,
   "id": "caca08d3",
   "metadata": {},
   "outputs": [
    {
     "name": "stdout",
     "output_type": "stream",
     "text": [
      "New Value of a 4\n",
      "New Value of b 3\n"
     ]
    }
   ],
   "source": [
    "swap_variables(3,4)"
   ]
  },
  {
   "cell_type": "markdown",
   "id": "1034c67a",
   "metadata": {},
   "source": [
    "5.\tWrite a Python program to generate a random number?"
   ]
  },
  {
   "cell_type": "code",
   "execution_count": 8,
   "id": "da436091",
   "metadata": {},
   "outputs": [
    {
     "name": "stdout",
     "output_type": "stream",
     "text": [
      "59\n"
     ]
    }
   ],
   "source": [
    "import random\n",
    "print(random.randint(0,99))"
   ]
  }
 ],
 "metadata": {
  "kernelspec": {
   "display_name": "Python 3 (ipykernel)",
   "language": "python",
   "name": "python3"
  },
  "language_info": {
   "codemirror_mode": {
    "name": "ipython",
    "version": 3
   },
   "file_extension": ".py",
   "mimetype": "text/x-python",
   "name": "python",
   "nbconvert_exporter": "python",
   "pygments_lexer": "ipython3",
   "version": "3.9.7"
  }
 },
 "nbformat": 4,
 "nbformat_minor": 5
}
