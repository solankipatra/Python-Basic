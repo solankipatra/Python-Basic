{
 "cells": [
  {
   "cell_type": "markdown",
   "id": "c42e8b20",
   "metadata": {},
   "source": [
    "# Assignment 1: Python Basic\n",
    "\n",
    "1. In the below elements which of them are values or an expression? eg:- values can be integer or string and expressions will be mathematical operators.\n",
    "* \n",
    "Answer:\n",
    "'hello'--> values\n",
    "-87.8--> values\n",
    "- --> expression\n",
    "/ --> expression\n",
    "+ --> expression\n",
    "6 --> values\n",
    "\n",
    "2. What is the difference between string and variable?\n",
    "Answer:\n",
    "A Variable is a store of information, and a String is a type of information you would store in a Variable. A String is usually words, enclosed with \"\"\n",
    "\n",
    "Eg\n",
    "String x =\"Welcome to SoloLearn\"\n",
    "X is the Variable, and we declared it as a String, use the single = to assign the text to it\n",
    "\n",
    "3. Describe three different data types.\n",
    "Answer:\n",
    "Integer, String, Float\n",
    "\n",
    "4. What is an expression made up of? What do all expressions do?\n",
    "Answer:\n",
    "An expression is a construct made up of variables, operators, and method invocations, which are constructed according to the syntax of the language, that evaluates to a single value\n",
    "\n",
    "5. This assignment statements, like spam = 10. What is the difference between an expression and a statement?\n",
    "Answer:\n",
    "In programming language terminology, an “expression” is a combination of values and functions that are combined and interpreted by the compiler to create a new value, as opposed to a “statement” which is just a standalone unit of execution and doesn't return anything\n",
    "\n",
    "6. After running the following code, what does the variable bacon contain?\n",
    "bacon = 22\n",
    "bacon + 1"
   ]
  },
  {
   "cell_type": "code",
   "execution_count": 1,
   "id": "05002f14",
   "metadata": {},
   "outputs": [
    {
     "data": {
      "text/plain": [
       "23"
      ]
     },
     "execution_count": 1,
     "metadata": {},
     "output_type": "execute_result"
    }
   ],
   "source": [
    "bacon = 22\n",
    "bacon + 1"
   ]
  },
  {
   "cell_type": "markdown",
   "id": "55f2baa3",
   "metadata": {},
   "source": [
    "7. What should the values of the following two terms be?\n",
    "'spam' + 'spamspam'\n",
    "'spam' * 3"
   ]
  },
  {
   "cell_type": "code",
   "execution_count": 2,
   "id": "badb4269",
   "metadata": {},
   "outputs": [
    {
     "data": {
      "text/plain": [
       "'spamspamspam'"
      ]
     },
     "execution_count": 2,
     "metadata": {},
     "output_type": "execute_result"
    }
   ],
   "source": [
    "'spam' + 'spamspam'"
   ]
  },
  {
   "cell_type": "code",
   "execution_count": 3,
   "id": "e84d8d05",
   "metadata": {},
   "outputs": [
    {
     "data": {
      "text/plain": [
       "'spamspamspam'"
      ]
     },
     "execution_count": 3,
     "metadata": {},
     "output_type": "execute_result"
    }
   ],
   "source": [
    "'spam' * 3"
   ]
  },
  {
   "cell_type": "markdown",
   "id": "42e024bb",
   "metadata": {},
   "source": [
    "8. Why is eggs a valid variable name while 100 is invalid?\n",
    "Answer:\n",
    "Because we can't start giving variable with an integer which 100 is.\n",
    "\n",
    "9. What three functions can be used to get the integer, floating-point number, or string version of a value?\n",
    "Answer:\n",
    "str(), int(), float()\n",
    "\n",
    "10.10. Why does this expression cause an error? How can you fix it?\n",
    "'I have eaten ' + 99 + ' burritos.'\n",
    "Answer:\n",
    "Because 'I have eaten' is string , 99 is int and 'burritos is again string. Concatination is not allowed among intra-variables.\n",
    "solution: converted 99 into string."
   ]
  },
  {
   "cell_type": "code",
   "execution_count": 4,
   "id": "547f3dd1",
   "metadata": {},
   "outputs": [
    {
     "data": {
      "text/plain": [
       "'I have eaten 99 burritos.'"
      ]
     },
     "execution_count": 4,
     "metadata": {},
     "output_type": "execute_result"
    }
   ],
   "source": [
    "'I have eaten ' + '99'+ ' burritos.'"
   ]
  },
  {
   "cell_type": "code",
   "execution_count": null,
   "id": "8f27c8cb",
   "metadata": {},
   "outputs": [],
   "source": []
  }
 ],
 "metadata": {
  "kernelspec": {
   "display_name": "Python 3 (ipykernel)",
   "language": "python",
   "name": "python3"
  },
  "language_info": {
   "codemirror_mode": {
    "name": "ipython",
    "version": 3
   },
   "file_extension": ".py",
   "mimetype": "text/x-python",
   "name": "python",
   "nbconvert_exporter": "python",
   "pygments_lexer": "ipython3",
   "version": "3.9.7"
  }
 },
 "nbformat": 4,
 "nbformat_minor": 5
}
