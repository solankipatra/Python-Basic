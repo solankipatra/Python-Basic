{
 "cells": [
  {
   "cell_type": "markdown",
   "id": "fb43ac74",
   "metadata": {},
   "source": [
    "1. How do you distinguish between shutil.copy() and shutil.copytree()?\n",
    "Answer-\n",
    "shutil. copy() will copy a single file, shutil. copytree() will copy an entire folder and every folder and file contained in it\n",
    "\n",
    "2. What function is used to rename files?\n",
    "Answer-\n",
    "os. rename() method in Python is used to rename a file or directory\n",
    "\n",
    "3. What is the difference between the delete functions in the send2trash and shutil modules?\n",
    "Answer-\n",
    "The send2trash functions will move a file or folder to the recycle bin, while shutil functions will permanently delete files and folders.\n",
    "\n",
    "4. ZipFile objects have a close() method just like File objects’ close() method. What ZipFile method is equivalent to File objects’ open() method?\n",
    "Answer-\n",
    "OpenRead(String) Method.\n",
    "\n",
    "5. Create a program that searches a folder tree for files with a certain file extension (such as .pdf or .jpg). Copy these files from whatever location they are in to a new folder.\n",
    "\n"
   ]
  },
  {
   "cell_type": "code",
   "execution_count": null,
   "id": "e0fff97e",
   "metadata": {},
   "outputs": [],
   "source": [
    "import os, shutil\n",
    "\n",
    "def moveFileType(folder): \n",
    "  for root, dirs, files in os.walk(folder): \n",
    "               for file in files: \n",
    "                   if file.endswith('.jpg'):\n",
    "                    image_path=os.path.join(root,file)\n",
    "                    print('location: ',image_path)\n",
    "                    shutil.copy(image_path, 'C:\\Users\\Solanki\\Desktop\\python\\')"
   ]
  },
  {
   "cell_type": "code",
   "execution_count": null,
   "id": "d9e37f67",
   "metadata": {},
   "outputs": [],
   "source": []
  },
  {
   "cell_type": "code",
   "execution_count": null,
   "id": "c0704691",
   "metadata": {},
   "outputs": [],
   "source": []
  }
 ],
 "metadata": {
  "kernelspec": {
   "display_name": "Python 3 (ipykernel)",
   "language": "python",
   "name": "python3"
  },
  "language_info": {
   "codemirror_mode": {
    "name": "ipython",
    "version": 3
   },
   "file_extension": ".py",
   "mimetype": "text/x-python",
   "name": "python",
   "nbconvert_exporter": "python",
   "pygments_lexer": "ipython3",
   "version": "3.9.7"
  }
 },
 "nbformat": 4,
 "nbformat_minor": 5
}
